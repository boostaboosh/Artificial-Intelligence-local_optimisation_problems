{
 "cells": [
  {
   "cell_type": "markdown",
   "metadata": {
    "colab_type": "text",
    "id": "cCPKik5ALCad",
    "tags": []
   },
   "source": [
    "University of Stirling<br>\n",
    "Computing Science and Mathematics<br>\n",
    "#### CSCU9YE - Artificial Intelligence\n",
    "    \n",
    "# Lab 3: Genetic Algorithms\n",
    "\n",
    "## The Knapsack problem    \n"
   ]
  },
  {
   "cell_type": "code",
   "execution_count": 73,
   "metadata": {
    "colab": {
     "base_uri": "https://localhost:8080/",
     "height": 333
    },
    "colab_type": "code",
    "executionInfo": {
     "elapsed": 1086,
     "status": "error",
     "timestamp": 1596647240405,
     "user": {
      "displayName": "Andreas Meier",
      "photoUrl": "https://lh3.googleusercontent.com/a-/AOh14Ghaz_A3sKwWcbf93B1U-ifdXPFdtz9qEKH4wWsAZw=s64",
      "userId": "00895695506529229154"
     },
     "user_tz": -60
    },
    "id": "QexmDPakLCah",
    "outputId": "11cfaecb-7406-4032-9d12-0f065bc02b0c",
    "tags": []
   },
   "outputs": [],
   "source": [
    "def read_knapsack_data(fname):    \n",
    "    ''' Read kanpsack instance data\n",
    "        Input: filename\n",
    "        Output: number of items, capacity, values and weights\n",
    "    '''\n",
    "    with open(fname, 'r') as kfile:  # reads the whole file\n",
    "        lines = kfile.readlines()     \n",
    "    values = []; weights = []                 # Empty list to store values and weights \n",
    "    bFirst = True \n",
    "    for l in lines:\n",
    "        numbers = list(map(int, l.split()))  # Create list of integers from line      \n",
    "        if (bFirst):            # First line contains no. if items and capacity \n",
    "            numberOfItems = numbers[0]\n",
    "            capacity = numbers[1]\n",
    "            bFirst = False\n",
    "        else:                   # Other lines contain values and weights\n",
    "            values.append(numbers[0])    \n",
    "            weights.append(numbers[1])    \n",
    "    return numberOfItems, capacity, values, weights"
   ]
  },
  {
   "cell_type": "code",
   "execution_count": 74,
   "metadata": {
    "colab_type": "text",
    "id": "GU3QSUBALCav",
    "tags": []
   },
   "outputs": [
    {
     "name": "stdout",
     "output_type": "stream",
     "text": [
      "Number of items: 20. Weight Capacity: 878\n",
      "Values : [44, 46, 90, 72, 91, 40, 75, 35, 8, 54, 78, 40, 77, 15, 61, 17, 75, 29, 75, 63]\n",
      "Weights: [92, 4, 43, 83, 84, 68, 92, 82, 6, 44, 32, 18, 56, 83, 25, 96, 70, 48, 14, 58]\n"
     ]
    }
   ],
   "source": [
    "# Reading data from a file\n",
    "knapfile = \"knap20.txt\"     # filename, should be located in the same directory\n",
    "numberOfItems, weightCapacity, values, weights = read_knapsack_data(knapfile)\n",
    "print(f'Number of items: {numberOfItems}. Weight Capacity: {weightCapacity}')\n",
    "print(f'Values : {values}')\n",
    "print(f'Weights: {weights}') "
   ]
  },
  {
   "cell_type": "markdown",
   "metadata": {
    "tags": []
   },
   "source": [
    "### Generate Random Solutions"
   ]
  },
  {
   "cell_type": "code",
   "execution_count": 75,
   "metadata": {},
   "outputs": [],
   "source": [
    "import random as rnd\n",
    "\n",
    "def random_sol(l):\n",
    "    '''\n",
    "       Returns a random solution, binary list, with more proportion of 0s than 1s\n",
    "       Input: lenght of the list\n",
    "       Output: binary list\n",
    "    '''\n",
    "    sol = rnd.choices([0,1], weights=[15,85], k = l)  \n",
    "    return sol"
   ]
  },
  {
   "cell_type": "markdown",
   "metadata": {},
   "source": [
    "### Evaluation Function"
   ]
  },
  {
   "cell_type": "code",
   "execution_count": 76,
   "metadata": {},
   "outputs": [],
   "source": [
    "def evaluate(sol):\n",
    "    '''\n",
    "      Evaluates a solution returning its total value and weight\n",
    "      Input: solution as a list of binary digits\n",
    "      Output: total value and weight of the solution\n",
    "    '''\n",
    "    total_wei = sum([sol[i] * weights[i] for i in range(numberOfItems)])\n",
    "    if total_wei > weightCapacity:\n",
    "        total_val = 0\n",
    "    else:\n",
    "        total_val = sum([sol[i] * values[i] for i in range(numberOfItems)])   \n",
    "    return total_val, total_wei"
   ]
  },
  {
   "cell_type": "code",
   "execution_count": 77,
   "metadata": {},
   "outputs": [
    {
     "name": "stdout",
     "output_type": "stream",
     "text": [
      "[1, 1, 1, 1, 1, 0, 0, 1, 1, 1, 1, 1, 1, 1, 1, 1, 1, 1, 1, 0]\n",
      "(0, 880)\n"
     ]
    }
   ],
   "source": [
    "# Test the functions for generating and evaluatiing solutions and\n",
    "sol = random_sol(numberOfItems)\n",
    "print(sol)\n",
    "print(evaluate(sol))\n"
   ]
  },
  {
   "cell_type": "markdown",
   "metadata": {
    "tags": []
   },
   "source": [
    "## Create an Initial Population\n",
    "\n",
    "- You are given the code for creating an initial population\n",
    "- An individual is a list where the first component the solution (binary list) and the 2nd the fitness (value of the knapsack)\n",
    "- The population will be a list where each member is an individual, so it is a list of lists\n",
    "- We will sort the population by fitness in increasing fitness.\n",
    "- So the worst individual will always be the 1st in the population\n",
    "- Remember that worse individuals are those with lower fitness, as this is a maximisation problem"
   ]
  },
  {
   "cell_type": "code",
   "execution_count": 78,
   "metadata": {
    "tags": []
   },
   "outputs": [],
   "source": [
    "def create_individual():\n",
    "    '''\n",
    "        Creates an individual as a list of two elements: solution and its fitness\n",
    "    '''\n",
    "    sol = random_sol(numberOfItems) \n",
    "    fit, w = evaluate(sol)\n",
    "    return [sol, fit]\n",
    "\n",
    "\n",
    "def create_population(pop_size):\n",
    "    '''\n",
    "        Creates an initial population of pop_size randomly generated individuals\n",
    "        Input:  an integer indicating the population size\n",
    "        Output: a data structure for the population sorted by fitness\n",
    "    '''\n",
    "    pop = [create_individual() for i in range(pop_size)]\n",
    "    pop.sort(key = lambda x: x[1])  #key is set to sort using second element (Fitness) \n",
    "    return pop"
   ]
  },
  {
   "cell_type": "markdown",
   "metadata": {},
   "source": [
    "### Task 1: Testing the function for creating an initial population\n",
    "- Create a population called test_pop of size 10\n",
    "- Show the population\n"
   ]
  },
  {
   "cell_type": "code",
   "execution_count": 79,
   "metadata": {},
   "outputs": [
    {
     "name": "stdout",
     "output_type": "stream",
     "text": [
      "[[[1, 1, 1, 1, 1, 0, 1, 1, 1, 1, 1, 1, 1, 1, 1, 1, 1, 1, 1, 0], 0], [[1, 1, 1, 0, 1, 1, 1, 1, 1, 1, 1, 1, 0, 1, 0, 1, 1, 0, 1, 1], 0], [[1, 1, 1, 1, 1, 1, 1, 1, 1, 1, 1, 1, 1, 1, 1, 1, 1, 1, 1, 0], 0], [[1, 1, 1, 1, 1, 1, 1, 0, 1, 1, 1, 1, 1, 1, 1, 1, 1, 1, 1, 1], 0], [[1, 0, 1, 1, 1, 1, 1, 1, 1, 1, 1, 1, 1, 1, 1, 1, 0, 1, 0, 1], 0], [[1, 0, 1, 1, 1, 1, 1, 1, 1, 1, 1, 1, 1, 1, 1, 1, 0, 1, 1, 1], 0], [[1, 1, 1, 1, 1, 1, 1, 1, 1, 1, 1, 0, 1, 1, 0, 1, 0, 1, 1, 1], 0], [[1, 0, 1, 0, 0, 1, 1, 1, 1, 1, 1, 1, 1, 1, 1, 1, 1, 0, 0, 1], 772], [[0, 1, 0, 1, 1, 0, 1, 1, 1, 1, 1, 1, 1, 1, 1, 0, 0, 1, 1, 1], 819], [[0, 1, 1, 1, 0, 1, 1, 1, 1, 1, 1, 1, 1, 1, 1, 1, 0, 1, 1, 1], 875]]\n"
     ]
    }
   ],
   "source": [
    "# Add your code here\n",
    "test_pop = create_population(10)\n",
    "print(test_pop)"
   ]
  },
  {
   "cell_type": "markdown",
   "metadata": {
    "tags": []
   },
   "source": [
    "### Practice \n",
    "- Let us practice how to access elements in the population\n",
    "- Run the cells below and check the results"
   ]
  },
  {
   "cell_type": "code",
   "execution_count": 80,
   "metadata": {},
   "outputs": [
    {
     "data": {
      "text/plain": [
       "[[1, 1, 1, 1, 1, 0, 1, 1, 1, 1, 1, 1, 1, 1, 1, 1, 1, 1, 1, 0], 0]"
      ]
     },
     "execution_count": 80,
     "metadata": {},
     "output_type": "execute_result"
    }
   ],
   "source": [
    "# Access the first individial in the population.\n",
    "# Arrays starts with '0'\n",
    "test_pop[0]"
   ]
  },
  {
   "cell_type": "code",
   "execution_count": 81,
   "metadata": {},
   "outputs": [
    {
     "data": {
      "text/plain": [
       "0"
      ]
     },
     "execution_count": 81,
     "metadata": {},
     "output_type": "execute_result"
    }
   ],
   "source": [
    "# Access the fitness of the 2nd member in the population\n",
    "test_pop[1][1]"
   ]
  },
  {
   "cell_type": "code",
   "execution_count": 82,
   "metadata": {},
   "outputs": [
    {
     "data": {
      "text/plain": [
       "[1, 1, 1, 1, 1, 1, 1, 1, 1, 1, 1, 1, 1, 1, 1, 1, 1, 1, 1, 0]"
      ]
     },
     "execution_count": 82,
     "metadata": {},
     "output_type": "execute_result"
    }
   ],
   "source": [
    "# Access the solution vector of the 3rd member of the population\n",
    "test_pop[2][0]"
   ]
  },
  {
   "cell_type": "markdown",
   "metadata": {},
   "source": [
    "### Mutation Operator\n",
    "\n",
    "- You are given the code to generate a random mutation of a given solution\n",
    "- Notice that this is similar to the neighbour operation used for hill-climbing"
   ]
  },
  {
   "cell_type": "code",
   "execution_count": 83,
   "metadata": {},
   "outputs": [],
   "source": [
    "def mutation(sol):   \n",
    "    ''' Generate a random 1-bit flip mutant of the given solution\n",
    "        Input:  Solution as binary list\n",
    "        Output: Mutated solution\n",
    "    '''    \n",
    "    mutant = sol.copy()                     # copy solution\n",
    "    i = rnd.randint(0, numberOfItems-1)\n",
    "    # alter position i if 0 assign 1,else assign 1\n",
    "    if mutant[i] == 1:\n",
    "        mutant[i] = 0\n",
    "    else:\n",
    "        mutant[i] = 1\n",
    "    return mutant"
   ]
  },
  {
   "cell_type": "markdown",
   "metadata": {},
   "source": [
    "### Test \n",
    "- Let us test the mutation operator\n",
    "- Run the cell below and check the results"
   ]
  },
  {
   "cell_type": "code",
   "execution_count": 84,
   "metadata": {},
   "outputs": [
    {
     "name": "stdout",
     "output_type": "stream",
     "text": [
      "Solution:  [1, 1, 1, 1, 1, 1, 1, 1, 1, 1, 1, 1, 1, 1, 1, 1, 1, 1, 1, 0]\n",
      "Mutant:    [1, 1, 1, 1, 1, 1, 1, 1, 1, 0, 1, 1, 1, 1, 1, 1, 1, 1, 1, 0]\n"
     ]
    }
   ],
   "source": [
    "# Testing the mutation operation\n",
    "sol = test_pop[2][0]\n",
    "print(\"Solution: \", sol)\n",
    "mut = mutation(sol)\n",
    "print(\"Mutant:   \" , mut)"
   ]
  },
  {
   "cell_type": "markdown",
   "metadata": {
    "tags": []
   },
   "source": [
    "## Task 2: Implement Tournament Selection of Size two\n",
    "\n",
    "- Your task is to implement a tournament selection function, where the size of the tournament is two\n",
    "- This function selects two potential individuals at random from the population and returns the solution with the best fitness of the two."
   ]
  },
  {
   "cell_type": "code",
   "execution_count": 85,
   "metadata": {
    "tags": []
   },
   "outputs": [],
   "source": [
    "def tournament(pop):\n",
    "    ''' Compares the fitness of two randomly selected individuals in the population and returns \n",
    "        the best of the two\n",
    "        Input:  the population data structure \n",
    "        ouptut: the solution (binary list) of the selected individual\n",
    "    '''\n",
    "    # Add your code here\n",
    "    # select to random individual among the population\n",
    "    individual1PositionInPopulation = rnd.randint(0, len(pop) - 1)\n",
    "    individual2PositionInPopulation = rnd.randint(0, len(pop) - 1)\n",
    "    if individual2PositionInPopulation == individual1PositionInPopulation:\n",
    "        individual2PositionInPopulation = (individual2PositionInPopulation + 1) % len(pop)\n",
    "    #return the solution with the best fitness of the two selected individuals\n",
    "    fitnessIndividual1 = pop[individual1PositionInPopulation][1]\n",
    "    fitnessIndividual2 = pop[individual2PositionInPopulation][1]\n",
    "    if fitnessIndividual1 > fitnessIndividual2:\n",
    "        sol = pop[individual1PositionInPopulation][0]\n",
    "    else:\n",
    "        sol = pop[individual2PositionInPopulation][0]\n",
    "    return sol\n"
   ]
  },
  {
   "cell_type": "markdown",
   "metadata": {},
   "source": [
    "### Test \n",
    "- Let us test the tournament function\n",
    "- Run the cell below and check the results"
   ]
  },
  {
   "cell_type": "code",
   "execution_count": 86,
   "metadata": {},
   "outputs": [
    {
     "data": {
      "text/plain": [
       "[1, 0, 1, 0, 0, 1, 1, 1, 1, 1, 1, 1, 1, 1, 1, 1, 1, 0, 0, 1]"
      ]
     },
     "execution_count": 86,
     "metadata": {},
     "output_type": "execute_result"
    }
   ],
   "source": [
    "# Test the tournament function with the test_population previously created\n",
    "tournament(test_pop)"
   ]
  },
  {
   "cell_type": "markdown",
   "metadata": {
    "tags": []
   },
   "source": [
    "## Task 3: Crossover Operator - 1 point crossover\n",
    "\n",
    "- Implement one-point crossover between two parent solutions.\n",
    "- Your function should pick a single crossover point and copy the first part of the solution from the first parent and the 2nd part (after the crossover point) from the second parent"
   ]
  },
  {
   "cell_type": "code",
   "execution_count": 87,
   "metadata": {},
   "outputs": [],
   "source": [
    "def crossover(p1, p2):  \n",
    "    ''' Performs a 1-point crossover of the two given solutions\n",
    "        Input:  Two solutions (binary lists) as parents\n",
    "        Ouptut: One child applying one-point crossover.\n",
    "    '''\n",
    "     # Add your code here\n",
    "    crossoverPoint = rnd.randint(1, len(p1) - 2) # crossover point cannot be the first or last position in \n",
    "                                                 # the solution because otherwise the solutions swap places \n",
    "                                                 # but no new solution is created\n",
    "    firstPortionOfChild = p1[0:crossoverPoint] # notion [x:y] slices a portion of a list: x included, y excluded\n",
    "    secondPortionOfChild = p2[crossoverPoint : len(p2)]\n",
    "    child = firstPortionOfChild + secondPortionOfChild\n",
    "    return child"
   ]
  },
  {
   "cell_type": "markdown",
   "metadata": {},
   "source": [
    "### Test \n",
    "- Let us test the crossover function\n",
    "- Run the cell below and check the results"
   ]
  },
  {
   "cell_type": "code",
   "execution_count": 88,
   "metadata": {},
   "outputs": [
    {
     "name": "stdout",
     "output_type": "stream",
     "text": [
      "Parents:\n",
      "[1, 1, 1, 0, 1, 1, 1, 1, 1, 1, 1, 1, 0, 1, 0, 1, 1, 0, 1, 1]\n",
      "[1, 1, 1, 1, 1, 1, 1, 0, 1, 1, 1, 1, 1, 1, 1, 1, 1, 1, 1, 1]\n",
      "Child:\n",
      "[1, 1, 1, 0, 1, 1, 1, 1, 1, 1, 1, 1, 0, 1, 0, 1, 1, 0, 1, 1]\n"
     ]
    }
   ],
   "source": [
    "# Testing the crossover operator\n",
    "parent1 = test_pop[1][0] # references to parent\n",
    "parent2 = test_pop[3][0]\n",
    "print(\"Parents:\")\n",
    "print(parent1)\n",
    "print(parent2)\n",
    "\n",
    "child = crossover(parent1, parent2)\n",
    "\n",
    "print(\"Child:\")\n",
    "print(child)"
   ]
  },
  {
   "cell_type": "markdown",
   "metadata": {
    "tags": []
   },
   "source": [
    "## Task 5: Implement a Genetic Algorithm,\n",
    "- Your task is to implement a steady-state genetic algorithm using the various functions implemented above.\n",
    "- Here is the Pseudocode of a steady-state genetic algorithm\n",
    "\n",
    ">P = Generate_initial_population(pop_size)   \n",
    ">For a fixed number of iterations do\n",
    ">>mom = Tournament_selection(P) <br>\n",
    ">>dad = Tournament_selection(P) <br>\n",
    ">>child = crossover(mom, dad)    \n",
    ">>child = Mutate(child)  \n",
    ">>Evaluate_individual(child)<br>\n",
    ">> Replace_worst(P, child) <br>"
   ]
  },
  {
   "cell_type": "markdown",
   "metadata": {},
   "source": [
    "### Tips:\n",
    "- Notice that the population will be sorted after initialisation\n",
    "- However, after each iteration, since we are adding a new individual, you need to sort it again\n",
    "- Notice, if we sort the population at each iteration:\n",
    "    - The worst individual (low fitness) will always be the first index in the population\n",
    "    - The best individual will always be the last index in the population\n",
    "- Add a variable list called 'trace' to your algorithm in order to keep the fitness (value) of the best found individual at each iteration"
   ]
  },
  {
   "cell_type": "code",
   "execution_count": 89,
   "metadata": {
    "tags": []
   },
   "outputs": [],
   "source": [
    "def genetic_algorithm(maxiter):\n",
    "    ''' \n",
    "       Run the GA for for a maximum number of iterations\n",
    "       Input:  Integer representing the maximum number of iterations\n",
    "       Output: The best solution found at the end of the run, \n",
    "               A trace of the values (fitness) of the best individual at each iteration\n",
    "    '''   \n",
    "    # Add your code here\n",
    "    populationSize = 100 # define the population size\n",
    "    population = create_population(populationSize)\n",
    "    fitnessTrace = []\n",
    "    iterations = []\n",
    "    for iteration in range(maxiter):\n",
    "        iterations.append(iteration + 1)\n",
    "        momSolution = tournament(population)\n",
    "        dadSolution = tournament(population)\n",
    "        childSolution = crossover(momSolution, dadSolution)\n",
    "        childMutation = mutation(childSolution)\n",
    "        childMutationFitness = evaluate(childMutation)[0]\n",
    "        # replace the worst (least fit) individual in the population with the child mutation\n",
    "        population[0] = [childMutation, childMutationFitness]\n",
    "        population.sort(key = lambda x: x[1]) # key is set to sort using second element (Fitness), \n",
    "                                            # reverse is = ascending by default\n",
    "                                            # lambda is a keyword that allows you to create small anonymous functions\n",
    "                                            # The general syntax of a lambda function is lambda arguments: expression\n",
    "        # add the best individual from this iteration to the trace (see if i can code to add it only if it's different)\n",
    "        fitnessTrace.append(population[-1][1])\n",
    "    return population[populationSize - 1], fitnessTrace, iterations"
   ]
  },
  {
   "cell_type": "markdown",
   "metadata": {},
   "source": [
    "## Task 6: Use the Genetic Algorithm\n",
    "- Using the genetic_algorithm function to solve the knapsack instance\n",
    "- Experiment with several values of the number of maximum iterations\n",
    "- Print best solution found after the run\n",
    "- What is the best value you can get after running the genetic algorithm?\n",
    "- Can you obtain better results than by runing a hill_climber? (as you did in Lab 2)"
   ]
  },
  {
   "cell_type": "code",
   "execution_count": 95,
   "metadata": {},
   "outputs": [
    {
     "name": "stdout",
     "output_type": "stream",
     "text": [
      "[[1, 1, 1, 1, 1, 0, 1, 0, 1, 1, 1, 1, 1, 0, 1, 1, 1, 1, 1, 1], 995]\n"
     ]
    }
   ],
   "source": [
    "# Add your code here\n",
    "iterations = 100\n",
    "bestSolution, fitnessTrace, iterations = genetic_algorithm(iterations)\n",
    "print(bestSolution)"
   ]
  },
  {
   "cell_type": "markdown",
   "metadata": {
    "tags": []
   },
   "source": [
    "### Task 7: Plot the trace of the best individuals \n",
    "- Use the trace produced by the algorithm and plot it as a line plot with markers\n",
    "- Can you see a trend of improving the values across the search process?\n"
   ]
  },
  {
   "cell_type": "code",
   "execution_count": 97,
   "metadata": {
    "scrolled": true,
    "tags": []
   },
   "outputs": [
    {
     "data": {
      "text/plain": [
       "<matplotlib.collections.PathCollection at 0x11738cf10>"
      ]
     },
     "execution_count": 97,
     "metadata": {},
     "output_type": "execute_result"
    },
    {
     "data": {
      "image/png": "[encoded data removed]",
      "text/plain": [
       "<Figure size 640x480 with 1 Axes>"
      ]
     },
     "metadata": {},
     "output_type": "display_data"
    }
   ],
   "source": [
    "import matplotlib.pyplot as plt\n",
    "%matplotlib inline\n",
    "\n",
    "# Add your code here\n",
    "plt.title(\"genetic algorithm knapsack problem\")\n",
    "plt.xlabel(\"iterations\")\n",
    "plt.ylabel(\"value (fitness)\")\n",
    "plt.plot(fitnessTrace)\n",
    "plt.scatter(iterations, fitnessTrace, marker = \"x\", color = \"red\")"
   ]
  },
  {
   "cell_type": "code",
   "execution_count": null,
   "metadata": {},
   "outputs": [],
   "source": []
  }
 ],
 "metadata": {
  "colab": {
   "collapsed_sections": [],
   "name": "lab2_stir.ipynb",
   "provenance": [],
   "toc_visible": true
  },
  "kernelspec": {
   "display_name": "Python 3 (ipykernel)",
   "language": "python",
   "name": "python3"
  },
  "language_info": {
   "codemirror_mode": {
    "name": "ipython",
    "version": 3
   },
   "file_extension": ".py",
   "mimetype": "text/x-python",
   "name": "python",
   "nbconvert_exporter": "python",
   "pygments_lexer": "ipython3",
   "version": "3.11.4"
  }
 },
 "nbformat": 4,
 "nbformat_minor": 4
}
