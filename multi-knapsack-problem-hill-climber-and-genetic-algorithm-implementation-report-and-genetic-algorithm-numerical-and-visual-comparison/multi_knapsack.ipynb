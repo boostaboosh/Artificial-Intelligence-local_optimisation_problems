{
 "cells": [
  {
   "cell_type": "markdown",
   "metadata": {
    "tags": []
   },
   "source": [
    "### University of Stirling\n",
    "#### Computing Science and Mathematics\n",
    "#### CSCU9YE - Artificial Intelligence\n",
    "#### student ID number: 292 53 99\n",
    "\n",
    "# Coursework: The Multi-dimensional Knapsack Problem\n",
    "The multi-dimensional knapsack problem is an optimisation problem where the goal is to maximise the total value or profit of a set of items.\n",
    "\n",
    "It can be seen as an extension of the single knapsack problem, but instead of having a single constraint (a single sack), we can have two or more constraints.\n",
    "\n",
    "It is better to think in terms of constraints or resources (rather than sacks) to understand this problem.   \n",
    "\n",
    "The following data provides an instance of the multi-dimensional knapsack problem.\n",
    "\n",
    "n = number of possible items\n",
    "m = number of constraints\n",
    "\n",
    "A list of length n with the profits or values of each item\n",
    "A list of length m with the amounts of each constraint or resource\n",
    "\n",
    "An n x m matrix with the \"weight\" or \"use\" of item i in constraint j\n",
    "\n",
    "In mathematical terms, the problem can be formulated as follows:\n",
    "\n",
    "Maximise sum of p(j)s(j)  for j = 1,...,n\n",
    "\n",
    "Subject to  sum of r(i,j)s(j) <= b(i)  for i=1,...,m and j = 1,...,n\n",
    "\n",
    "Where, \n",
    "\n",
    "       s is a binary vector s(j)=0 or 1\n",
    "       p is the vector of profits\n",
    "       r is the matrix of resource coefficients (weights)\n",
    "       b is the vector with resource capacities\n",
    "       \n",
    "   \n",
    "Let us make this more concrete with an example.\n",
    "\n",
    "Let us assume we have a pizza shop.\n",
    "\n",
    "We have the recipes of n different toppings pizzas that we can produce.\n",
    "Each of the n pizzas has a value or profit, we can think of it as its selling price.\n",
    "\n",
    "But we have limited resources! In this case ingredients, so we cannot produce all the n pizza recipes.\n",
    "\n",
    "This means that we need to select a subset of the n pizza recipes that maximises our profit.\n",
    "\n",
    "Let us assume that for producing the pizzas we have m required ingredients (eg. flour, cheese, olives, ham, mushrooms, pineapple, etc), for each of them we have a fixed amount.\n",
    "\n",
    "Each of the n pizza recipes uses a certain amount of the m ingredients (note: it can be zero for some of them).\n",
    "\n",
    "Our task is to select the subset of the n pizza recipes *with the highest value/profit* subject to the constraints imposed by the amounts of the m ingredients we have."
   ]
  },
  {
   "cell_type": "markdown",
   "metadata": {
    "tags": []
   },
   "source": [
    "## Aquiring the problem data\n",
    "\n",
    "-  This function reads the data of a given problem instance\n",
    "-  It returns four variables in the the following order, using the variable names as in the mathematical formulation described in the coursework\n",
    "    - *n*: number of items, \n",
    "    - *m*: number of constraints\n",
    "    - *p*: one dimensional numpy array with the profit coefficients fore ach item \n",
    "    - *r*: two dimensional numpy array with the resource coefficients for each item on each constraint/resource\n",
    "    - *b*: one dimensional numpy array with the constraints right-hand size, that is the bounds or capacities \n"
   ]
  },
  {
   "cell_type": "code",
   "execution_count": 1,
   "metadata": {
    "tags": []
   },
   "outputs": [],
   "source": [
    "import numpy as np\n",
    "\n",
    "def read_multi_knapsack(fname):\n",
    "    \"\"\"\n",
    "    Reads the data of a multi-knapsack instance\n",
    "\n",
    "    :param fname: file name with instance data\n",
    "    :return: n, m, p, r and b (as described above)\n",
    "    \"\"\" \n",
    "    profits = []\n",
    "    with open(fname, 'r') as kfile:\n",
    "        lines = kfile.readlines()\n",
    "        \n",
    "    # convert m,n  to integer varaibles   \n",
    "    n, m  = [int(d) for d in lines[0].split()]   # convert string data to integers\n",
    "        \n",
    "    input_line_cnt = 1    # input lines index after first line\n",
    "    p = np.empty(0, dtype=np.int64)\n",
    "    while p.size < n:\n",
    "        d = np.loadtxt(lines[input_line_cnt].split(),\n",
    "                       delimiter=\" \", dtype=np.int64)\n",
    "        p = np.append(p, d)\n",
    "        input_line_cnt += 1\n",
    "\n",
    "    r = np.empty((0, n), dtype=np.int64)\n",
    "    for i in range(m):\n",
    "        lin = np.empty(0, dtype=np.int64)\n",
    "        while lin.size < n:\n",
    "            d = np.loadtxt(lines[input_line_cnt].split(),\n",
    "                           delimiter=\" \", dtype=np.int64)\n",
    "            lin = np.append(lin, d)\n",
    "            input_line_cnt += 1\n",
    "        r = np.vstack((r, lin))\n",
    "\n",
    "    # get the capacities (max of one line space separated integer values)\n",
    "    b = np.loadtxt(lines[input_line_cnt].split(),\n",
    "                     delimiter=\" \", dtype=np.int64)\n",
    "\n",
    "    return  n, m, p, r, b, \n"
   ]
  },
  {
   "cell_type": "markdown",
   "metadata": {},
   "source": [
    "### Reading the data from the file"
   ]
  },
  {
   "cell_type": "code",
   "execution_count": 2,
   "metadata": {},
   "outputs": [
    {
     "name": "stdout",
     "output_type": "stream",
     "text": [
      "Instance Data:\n",
      "n: 28.  m: 2\n",
      "Profits: [ 1898   440 22507   270 14148  3100  4650 30800   615  4975  1160  4225\n",
      "   510 11880   479   440   490   330   110   560 24355  2885 11748  4550\n",
      "   750  3720  1950 10500]\n",
      "Resources: [[ 45   0  85 150  65  95  30   0 170   0  40  25  20   0   0  25   0   0\n",
      "   25   0 165   0  85   0   0   0   0 100]\n",
      " [ 30  20 125   5  80  25  35  73  12  15  15  40   5  10  10  12  10   9\n",
      "    0  20  60  40  50  36  49  40  19 150]]\n",
      "Capacities: [500 500]\n"
     ]
    }
   ],
   "source": [
    "data_file_name = \"multi_knap_n28_m2.txt\"        \n",
    "\n",
    "n, m, profits, resources, capacities = read_multi_knapsack(data_file_name)\n",
    "\n",
    "print(\"Instance Data:\")\n",
    "print(f\"n: {n}.  m: {m}\")\n",
    "print(f\"Profits: {profits}\")\n",
    "print(f\"Resources: {resources}\")\n",
    "print(f\"Capacities: {capacities}\")\n"
   ]
  },
  {
   "cell_type": "markdown",
   "metadata": {},
   "source": [
    "# Part 1: Simple Hill-Climbing\n",
    "Total: 10 marks (20% of 50 point total):\n",
    "Code, Experiments and Results -\n",
    "Code for hill-climbing, including fitness function\n",
    "Modularity, conciseness, clarity, elegance, comments\n",
    "Running experiments and reporting results\n",
    "\n",
    "- Implement a fitness  (evaluation) function. That is a function, that measures the quality of a solution. \n",
    "- Implement a function that checks the validity of a solution. \n",
    "- Using the functions above, implement a simple hill-climbing search method to solve this problem. \n",
    "- Using the instance with n = 28 and m = 2, run experiments and report the results obtained using both numerical metrics and plots. "
   ]
  },
  {
   "cell_type": "markdown",
   "metadata": {},
   "source": [
    "## Understanding the problem\n",
    "In simple terms, you have 28 pizza recipes to choose from, and each pizza can have any number of ingredients. However, you must be careful not to use too much of the specific ingredients (cheese and tomato for example) because you have limited quantities of these ingredients. Your goal is to pick pizzas that maximize your profit without breaking these ingredient constraints.\n",
    "### What are the inputs?\n",
    "- n = numberOfRecipes = number of possible recipes (e.g. 5: number of pizza recipes)\n",
    "- m = numberOfIngredients = number of ingredients (e.g. 2: cheese and tomato)\n",
    "- profits = recipeProfits = list of profits associated with each recipe (e.g. 5bucks, 8bucks, etc.)\n",
    "- resources = recipeIngredientsQuantities = list of lists of quantities of each ingredient for each recipe (e.g. cheese[3, 5, 0, 3, 8], tomato[4, 1, 3, 2 , 0])\n",
    "- capacities = ingredientsSupply = list of supplies for each ingredient (e.g. cheese: 50, tomato: 32)\n",
    "So, the first recipe (pizza) in the profits list (profits[0]) has a value/profit of 5 bucks and requires 3 units of cheese and 4 units of tomato to make (cheese[0] = 3 and tomato[0] = 4).\n",
    "### what is the desired output?\n",
    "The objective is to come up with an array of pizza recipes with the highest possible profit value for the quantity of ingredients that we have.\n",
    "- A single array of length n = numberOfRecipes where each value represents the quantity of a recipe in the profits array. The objective is to find the selection of recipes which generate the most profit with the ingredients available."
   ]
  },
  {
   "cell_type": "markdown",
   "metadata": {},
   "source": [
    "### Create variables with names that describe what they contain more clearly to me\n"
   ]
  },
  {
   "cell_type": "code",
   "execution_count": 3,
   "metadata": {},
   "outputs": [],
   "source": [
    "numberOfRecipes = n\n",
    "numberOfIngregients = m\n",
    "recipeProfits = profits\n",
    "recipeIngredientsQuantities = resources\n",
    "ingredientsSupply = capacities"
   ]
  },
  {
   "cell_type": "markdown",
   "metadata": {},
   "source": [
    "## 1.1: Implement a fitness (evaluation) function. That is a function, that measures the quality of a solution."
   ]
  },
  {
   "cell_type": "code",
   "execution_count": 4,
   "metadata": {},
   "outputs": [],
   "source": [
    "def getProfit(solution):\n",
    "    '''\n",
    "       Returns the value of a solution, i.e., its fitness\n",
    "       Input: the solution list\n",
    "       Output: total profit value\n",
    "    '''\n",
    "    totalProfit = 0\n",
    "    totalIngredient1 = 0\n",
    "    totalIngredient2 = 0\n",
    "    for recipe in range(len(solution)):\n",
    "        if solution[recipe] == 1:\n",
    "            totalProfit = totalProfit + recipeProfits[recipe]\n",
    "            totalIngredient1 = totalIngredient1 + recipeIngredientsQuantities[0][recipe]\n",
    "            totalIngredient2 = totalIngredient2 + recipeIngredientsQuantities[1][recipe]\n",
    "    maxIngredient1 = ingredientsSupply[0]\n",
    "    maxIngredient2 = ingredientsSupply[1]\n",
    "    if totalIngredient1 > maxIngredient1 or totalIngredient2 > maxIngredient2:\n",
    "        totalProfit = 0\n",
    "    return totalProfit"
   ]
  },
  {
   "cell_type": "markdown",
   "metadata": {},
   "source": [
    "## 1.2 Implement a function that checks the validity of a solution."
   ]
  },
  {
   "cell_type": "code",
   "execution_count": 5,
   "metadata": {},
   "outputs": [],
   "source": [
    "def isValid(solution):\n",
    "    '''\n",
    "       Returns the validity of a solution as true or false\n",
    "       Input: the solution list\n",
    "       Output: true or false\n",
    "    '''\n",
    "    totalIngredient1 = 0\n",
    "    totalIngredient2 = 0\n",
    "    for recipe in range(len(solution)):\n",
    "        if solution[recipe] == 1:\n",
    "            totalIngredient1 = totalIngredient1 + recipeIngredientsQuantities[0][recipe]\n",
    "            totalIngredient2 = totalIngredient2 + recipeIngredientsQuantities[1][recipe]\n",
    "    maxIngredient1 = ingredientsSupply[0]\n",
    "    maxIngredient2 = ingredientsSupply[1]\n",
    "    if totalIngredient1 > maxIngredient1 or totalIngredient2 > maxIngredient2:\n",
    "        valid = False\n",
    "    else:\n",
    "        valid = True\n",
    "    return valid"
   ]
  },
  {
   "cell_type": "markdown",
   "metadata": {},
   "source": [
    "## 1.3 Using the functions above, implement a simple hill-climbing search method to solve this problem."
   ]
  },
  {
   "cell_type": "markdown",
   "metadata": {},
   "source": [
    "### Generate solution function\n",
    "The first thing I need is a function which generates a random solution."
   ]
  },
  {
   "cell_type": "code",
   "execution_count": 6,
   "metadata": {},
   "outputs": [],
   "source": [
    "import random as rnd\n",
    "\n",
    "def randomSolution(length):\n",
    "    '''\n",
    "       Returns a random solution, binary list\n",
    "       Input: lenght of the list\n",
    "       Output: binary list\n",
    "    '''\n",
    "    randomSolution = rnd.choices([0, 1], weights = [60, 40], k = length)\n",
    "    return randomSolution"
   ]
  },
  {
   "cell_type": "markdown",
   "metadata": {},
   "source": [
    "### Random solution generation and evaluation test"
   ]
  },
  {
   "cell_type": "code",
   "execution_count": 7,
   "metadata": {},
   "outputs": [
    {
     "name": "stdout",
     "output_type": "stream",
     "text": [
      "[1, 0, 0, 1, 0, 0, 0, 0, 0, 0, 1, 0, 0, 1, 0, 1, 0, 0, 0, 1, 1, 0, 1, 0, 1, 0, 1, 0] 0 False\n"
     ]
    }
   ],
   "source": [
    "aSolution = randomSolution(numberOfRecipes)\n",
    "aValidity = isValid(aSolution)\n",
    "aValue = getProfit(aSolution)\n",
    "print(aSolution, aValue, aValidity)"
   ]
  },
  {
   "cell_type": "markdown",
   "metadata": {},
   "source": [
    "### Generate neighbour function\n",
    "I will also need a funciton which generates a neighbour solution (1 bit flipped) from a given solution."
   ]
  },
  {
   "cell_type": "code",
   "execution_count": 8,
   "metadata": {},
   "outputs": [],
   "source": [
    "def generateNeighbour(solution):\n",
    "    ''' Generate a random 1-bit flip neigbour of the given solution\n",
    "        Input: solution as binary list\n",
    "        Output: Solution in the 1-bit flip neighbourh\n",
    "    ''' \n",
    "    neighbour = solution.copy()\n",
    "    randomIndex = rnd.randint(0, numberOfRecipes - 1)\n",
    "    if neighbour[randomIndex] == 0:\n",
    "        neighbour[randomIndex] = 1\n",
    "    else:\n",
    "        neighbour[randomIndex] = 0\n",
    "    return neighbour"
   ]
  },
  {
   "cell_type": "markdown",
   "metadata": {},
   "source": [
    "### Neighbour function test"
   ]
  },
  {
   "cell_type": "code",
   "execution_count": 9,
   "metadata": {},
   "outputs": [
    {
     "name": "stdout",
     "output_type": "stream",
     "text": [
      "[1, 0, 0, 1, 0, 0, 0, 0, 0, 0, 1, 0, 0, 1, 0, 1, 0, 0, 0, 1, 1, 0, 1, 0, 1, 0, 1, 0] [1, 0, 1, 1, 0, 0, 0, 0, 0, 0, 1, 0, 0, 1, 0, 1, 0, 0, 0, 1, 1, 0, 1, 0, 1, 0, 1, 0]\n"
     ]
    }
   ],
   "source": [
    "aNeighbour = generateNeighbour(aSolution)\n",
    "print(aSolution, aNeighbour)"
   ]
  },
  {
   "cell_type": "markdown",
   "metadata": {},
   "source": [
    "### Implementing the hill-climber algorithm\n",
    "Now that I have functions which generate a random solution, evaluate said solution, and generate a neighbour of said solution, I can write a hill climber function which generates lots of neighbours starting with a random solution and returns the neighbour with the highest value at the end of all the iterations."
   ]
  },
  {
   "cell_type": "code",
   "execution_count": 10,
   "metadata": {},
   "outputs": [],
   "source": [
    "evaluate = getProfit\n",
    "\n",
    "def hillClimber(iterations):\n",
    "    ''' Hill climbing algorithm for a maximum number of iterations\"\n",
    "        Input: integer with the number of iterations to run\n",
    "        Output: The solution at the end of hill-climing, its value\n",
    "    '''\n",
    "    solution = randomSolution(numberOfRecipes)\n",
    "    solutionValue = evaluate(solution)\n",
    "    for iteration in range(iterations):\n",
    "        neighbour = generateNeighbour(solution)\n",
    "        value = evaluate(neighbour)\n",
    "        if value > solutionValue:\n",
    "            solution = neighbour.copy()\n",
    "            solutionValue = value\n",
    "    return solution, solutionValue"
   ]
  },
  {
   "cell_type": "markdown",
   "metadata": {},
   "source": [
    "### Hill climber algorithm test"
   ]
  },
  {
   "cell_type": "code",
   "execution_count": 11,
   "metadata": {},
   "outputs": [
    {
     "name": "stdout",
     "output_type": "stream",
     "text": [
      "[1, 1, 0, 0, 1, 1, 1, 1, 1, 1, 0, 0, 1, 1, 1, 1, 0, 1, 1, 1, 0, 0, 0, 1, 1, 1, 1, 0] 85905\n"
     ]
    }
   ],
   "source": [
    "hillClimberSolution, hillClimberSolutionValue = hillClimber(100)\n",
    "print(hillClimberSolution, hillClimberSolutionValue)"
   ]
  },
  {
   "cell_type": "markdown",
   "metadata": {},
   "source": [
    "## 1.4 Using the instance with n = 28 and m = 2, run experiments and report the results obtained using both numerical metrics and plots."
   ]
  },
  {
   "cell_type": "markdown",
   "metadata": {},
   "source": [
    "To draw plots I want to make a version of my hill climber algorithm which keeps a history of my solution as it changes. This way I can trace the progression of my hill climber algorithm's solution and see the rate at which its fitness improves by plotting this information using pyplot."
   ]
  },
  {
   "cell_type": "code",
   "execution_count": 12,
   "metadata": {},
   "outputs": [],
   "source": [
    "def hillClimberWithTraces(iterations):\n",
    "    ''' Hill climbing algorithm for a maximum number of iterations\"\n",
    "        Input: integer with the number of iterations to run\n",
    "        Output: The solution at the end of hill-climing, its value, trace of all neighbours, trace of solutions, trace of iterations\n",
    "    '''\n",
    "    # the starting solution\n",
    "    solution = randomSolution(numberOfRecipes)\n",
    "    solutionValue = evaluate(solution)\n",
    "    \n",
    "    # setting up traces to trace the history of variable I want to keep track of\n",
    "    allSolutionsProfitTrace = []\n",
    "    allSolutionsProfitTrace.append(solutionValue)\n",
    "    improvedSolutionsProfitTrace = []\n",
    "    improvedSolutionsProfitTrace.append(solutionValue)\n",
    "    improvedSolutionsIterationsTrace = []   \n",
    "    improvedSolutionsIterationsTrace.append(0)\n",
    "    \n",
    "    # hill climber algorithm loop\n",
    "    for iteration in range(iterations):\n",
    "        neighbour = generateNeighbour(solution)\n",
    "        value = evaluate(neighbour)\n",
    "        allSolutionsProfitTrace.append(value)\n",
    "        if value > solutionValue:\n",
    "            solution = neighbour.copy()\n",
    "            solutionValue = value\n",
    "            improvedSolutionsProfitTrace.append(solutionValue)\n",
    "            improvedSolutionsIterationsTrace.append(iteration + 1)\n",
    "    return solution, solutionValue, allSolutionsProfitTrace, improvedSolutionsProfitTrace, improvedSolutionsIterationsTrace"
   ]
  },
  {
   "cell_type": "markdown",
   "metadata": {},
   "source": [
    "### Testing the hill climber with traces function"
   ]
  },
  {
   "cell_type": "code",
   "execution_count": 13,
   "metadata": {},
   "outputs": [
    {
     "name": "stdout",
     "output_type": "stream",
     "text": [
      "[0, 1, 0, 0, 0, 0, 0, 0, 0, 0, 1, 1, 1, 1, 1, 0, 1, 1, 1, 1, 1, 1, 1, 1, 0, 0, 1, 1] 76172 [66687, 67017, 71567, 61067, 0, 47212, 61067, 47212, 74452, 69902, 0, 70227, 75012, 74682, 0, 50657, 50657, 0, 73062, 74572, 74682, 72127, 73062, 0, 0, 70787, 64512, 63132, 0, 70462, 76172, 65672, 75012, 71622, 71622, 0, 51817, 0, 0, 75693, 64292, 0, 0, 0, 75732, 0, 64424, 64292, 0, 0, 75682, 75662, 76062, 0, 0, 0, 0, 75693, 0, 0, 0, 71947, 0, 73287, 71947, 0, 0, 73287, 75612, 51817, 0, 0, 75612, 71947, 75662, 75012, 65672, 0, 75732, 0, 71947, 0, 74222, 51817, 0, 64424, 0, 75693, 75732, 75682, 0, 75012, 65672, 0, 73287, 75732, 0, 71947, 75693, 73287, 0] [66687, 67017, 71567, 74452, 75012, 76172] [0, 1, 2, 8, 12, 30]\n"
     ]
    }
   ],
   "source": [
    "iterations = 100\n",
    "solution, solutionValue, allSolutionsProfitTrace, improvedSolutionsProfitTrace, improvedSolutionsIterationsTrace = hillClimberWithTraces(iterations)\n",
    "print(solution, solutionValue, allSolutionsProfitTrace, improvedSolutionsProfitTrace, improvedSolutionsIterationsTrace)"
   ]
  },
  {
   "cell_type": "markdown",
   "metadata": {},
   "source": [
    "### Hill climber algorithm numerical metrics\n",
    "The hill climber algorithm is a local search algorithm used for optimization problems. It is designed to find the highest point or the best solution within a given search space by iteratively exploring neighboring solutions. Let's explore the solutions found by the hill climber algorithm I just implemented.\n",
    "We can look at the final solution of the hill climber algorithm and how many times better solutions were found compared to the first solution."
   ]
  },
  {
   "cell_type": "code",
   "execution_count": 14,
   "metadata": {},
   "outputs": [
    {
     "name": "stdout",
     "output_type": "stream",
     "text": [
      "initial random solution fitness: \n",
      "66687\n",
      "\n",
      "final solution fitness\n",
      "76172\n",
      "\n",
      "number of times that a better solution was found over 100 iterations: 5\n",
      "\n",
      "Iterations where a better solution was found: [0, 1, 2, 8, 12, 30]\n"
     ]
    }
   ],
   "source": [
    "print(\"initial random solution fitness: \")\n",
    "print(allSolutionsProfitTrace[0])\n",
    "print()\n",
    "print(\"final solution fitness\")\n",
    "print(improvedSolutionsProfitTrace[-1])\n",
    "print()\n",
    "print(f\"number of times that a better solution was found over {iterations} iterations: \" + str(len(improvedSolutionsProfitTrace) - 1))\n",
    "print()\n",
    "print(f\"Iterations where a better solution was found: {improvedSolutionsIterationsTrace}\")"
   ]
  },
  {
   "cell_type": "markdown",
   "metadata": {},
   "source": [
    "### Using plots to report hill climber algorithm results\n",
    "Using the pyplot library and the history of our hill climber solutions we can visualise the progression of the hill climber algortihm.\n",
    "A great way to do this is by crossing a line plot and a scatter plot using the pyplot plot and scatter functions.\n",
    "We can use the line plot to plot the solutions the algorithms finds to the problem every iteration, and we use the scatter plot to mark on the line plot exactly which iterations resulted in an improved solution.\n",
    "This way we can see red Xs mared at iterations where the fitness increased and this makes the fitness improved rate easy to see too."
   ]
  },
  {
   "cell_type": "code",
   "execution_count": 15,
   "metadata": {},
   "outputs": [
    {
     "data": {
      "image/png": "[encoded data removed]",
      "text/plain": [
       "<Figure size 640x480 with 1 Axes>"
      ]
     },
     "metadata": {},
     "output_type": "display_data"
    }
   ],
   "source": [
    "import matplotlib.pyplot as plt\n",
    "\n",
    "plt.scatter(improvedSolutionsIterationsTrace, improvedSolutionsProfitTrace, color = \"red\", s = 50, marker = \"x\")\n",
    "plt.plot(allSolutionsProfitTrace, color = \"blue\")\n",
    "plt.title(\"Trace hill-climbing\")\n",
    "plt.ylabel(\"Value\")\n",
    "plt.xlabel(\"Iterations\")\n",
    "plt.show()"
   ]
  },
  {
   "cell_type": "markdown",
   "metadata": {},
   "source": [
    "# Part 2: Algorithm of Your Choice\n",
    "Total: 25 marks (50% of 50 point total)\n",
    "\n",
    "15pts (30% of marks): \n",
    "Design Effort, Performance & Documentation -\n",
    "A good algorithm requires design effort and produces good performance (find good solutions in a reasonably short time). Justify your design: algorithm, operators, components, parameters\n",
    "\n",
    "10pts (20% of marks):\n",
    "Code Quality -\n",
    "Code for your own algorithm.\n",
    "Modularity, conciseness, clarity, elegance, comments\n",
    "\n",
    "- Here you're given the opportunity to design your own algorithm.\n",
    "- The goal is to try to improve the performance of the simple hill-climbing method in Part 1.  \n",
    "- Can you design an algorithm that improves the performance (finds better solutions) than hill-climbing?\n",
    "- To do so, you can either use some of the algorithm ideas discussed in the lectures and/or try your own ideas. \n",
    "\n",
    "The marking on this part will be based on the following criteria\n",
    "- Design Effort and Algorithm Performance: A good algorithm requires design effort and produces good performance (finding good solutions in a reasonably short time). \n",
    "- Implementation Quality: The clarity, modularity and conciseness of your code. \n",
    "- Documentation:  It is essential to document your design choices. \n",
    "    - You should provide in text form (using markdown cells in your notebook) brief descriptions of\n",
    "        - The type of algorithm\n",
    "        - The choice of search operator (s) or components you used, and their parameter values\n",
    "        - Justify your choices when possible"
   ]
  },
  {
   "cell_type": "markdown",
   "metadata": {},
   "source": [
    "## What's the goal here?\n",
    "The goal here in part 2 is to write an algorithm which outperforms the local search hill climber algorithm from part 1 in this optimisation problem.\n",
    "## For this task I have decided to implement a genetic algorithm.\n",
    "A genetic algorithm works by mutating a population of solutions every iteration instead of just one solution. And it is called genetic because it performs evolutionary selection from the population each iteration by selecting the fittest individuals from the population and combining them in some way (called crossover) to make offspring which will populate the following iteration's population.\n",
    "## Why will my selected genetic algorithm outperform the hill-climber algorithm from part 1?\n",
    "Genetic algorrithms tend to fair better than hill climber algorithms when solving optimisation problems because genetic algorithms find solutions which converge to the global optimum solution, i.e., the best possible solution out of all the solutions. In comparison the hill climber algorithm converges to the local optimum solution, i.e., the best solution in a particular region of the search space, but not necessarily the best solution overall. \n",
    "This is because genetic algorithms explore a wider range of solutions compared to hill climber algorithms because instead of making small single bit changes to a solution until no further single bit improvements can be made, a genetic algorithm maintains candidate solutions and evolves them over time using genetic operators such as mutation, crossover, and selection. Crossover allows for the best parts of different solutions to be combined, thereby genetic algorithms don't get stuck converging to the local optimum solution. And selection is the operation which selects the best solutions from each iteration for reproduction, ensuring that solutions get better over time. The population based approach means that more possible solutions are explored every iteration compared to a hill climber algorithm."
   ]
  },
  {
   "cell_type": "markdown",
   "metadata": {},
   "source": [
    "### First I need a function which generates individuals to populate the starting population of the genetic algorithm"
   ]
  },
  {
   "cell_type": "code",
   "execution_count": 16,
   "metadata": {},
   "outputs": [],
   "source": [
    "def createIndividual():\n",
    "    '''\n",
    "        Creates an individual as a list of two elements: solution and its fitness\n",
    "    '''\n",
    "    randSolution = randomSolution(numberOfRecipes)\n",
    "    profit = getProfit(randSolution)\n",
    "    return [randSolution, profit]"
   ]
  },
  {
   "cell_type": "markdown",
   "metadata": {},
   "source": [
    "### Creating a starting population"
   ]
  },
  {
   "cell_type": "code",
   "execution_count": 17,
   "metadata": {},
   "outputs": [],
   "source": [
    "def createPopulation(populationSize):\n",
    "    '''\n",
    "        Creates an initial population of populationSize randomly generated individuals\n",
    "        Input:  an integer indicating the population size\n",
    "        Output: a data structure for the population sorted by fitness\n",
    "    '''\n",
    "    population = [createIndividual() for i in range(populationSize)]\n",
    "    population.sort(key = lambda x: x[1])  #key is set to sort using second element (profit, i.e., fitness) \n",
    "    return population"
   ]
  },
  {
   "cell_type": "markdown",
   "metadata": {},
   "source": [
    "### Testing the create population function"
   ]
  },
  {
   "cell_type": "code",
   "execution_count": 18,
   "metadata": {},
   "outputs": [
    {
     "name": "stdout",
     "output_type": "stream",
     "text": [
      "[[[1, 1, 0, 1, 1, 1, 1, 1, 0, 0, 0, 0, 0, 0, 0, 0, 0, 1, 0, 1, 1, 0, 0, 1, 0, 1, 0, 0], 0], [[0, 0, 0, 1, 1, 1, 0, 0, 0, 0, 1, 0, 1, 0, 1, 1, 0, 0, 0, 0, 1, 1, 0, 1, 0, 1, 0, 1], 0], [[0, 0, 1, 0, 0, 1, 1, 0, 0, 1, 0, 1, 0, 1, 0, 0, 0, 0, 0, 0, 0, 1, 1, 0, 0, 1, 0, 1], 0], [[0, 1, 0, 0, 0, 1, 1, 0, 1, 0, 1, 0, 1, 1, 1, 0, 1, 0, 1, 0, 0, 1, 1, 0, 0, 1, 0, 1], 0], [[0, 0, 0, 0, 0, 0, 1, 0, 0, 0, 0, 1, 1, 0, 0, 0, 0, 0, 0, 0, 0, 0, 0, 0, 0, 0, 0, 0], 9385], [[0, 1, 0, 0, 1, 0, 1, 0, 0, 0, 1, 0, 0, 0, 1, 0, 0, 0, 0, 1, 0, 1, 0, 0, 1, 0, 0, 0], 25072], [[1, 1, 0, 1, 0, 0, 1, 0, 0, 0, 0, 1, 0, 1, 0, 1, 1, 1, 0, 1, 0, 0, 0, 0, 1, 0, 0, 0], 25933], [[0, 0, 0, 0, 0, 1, 1, 0, 1, 0, 1, 0, 0, 1, 1, 1, 0, 1, 0, 0, 0, 0, 0, 0, 1, 1, 0, 1], 37624], [[0, 0, 1, 0, 1, 0, 0, 0, 0, 1, 1, 1, 0, 0, 0, 0, 0, 0, 0, 1, 1, 0, 0, 0, 1, 1, 1, 0], 78350], [[0, 1, 1, 0, 0, 1, 0, 1, 0, 0, 0, 0, 1, 1, 0, 0, 1, 1, 0, 0, 0, 0, 1, 0, 0, 1, 1, 0], 87475]]\n"
     ]
    }
   ],
   "source": [
    "populationSize = 10\n",
    "testPopulation = createPopulation(populationSize)\n",
    "print(testPopulation)"
   ]
  },
  {
   "cell_type": "markdown",
   "metadata": {},
   "source": [
    "### Implementing a mutation operator"
   ]
  },
  {
   "cell_type": "code",
   "execution_count": 19,
   "metadata": {},
   "outputs": [],
   "source": [
    "def mutation(solution, numberOfMutations):\n",
    "    ''' Generate a random 1-bit flip mutant of the given solution\n",
    "        Input:  Solution as binary list\n",
    "        Output: Mutated solution\n",
    "    ''' \n",
    "    mutant = solution.copy() # copy solution\n",
    "    genesToMutate = np.random.choice(np.arange(0, len(solution) - 1), # first arg indicates range of integers to choose from\n",
    "                                     size = numberOfMutations, # second arg indicates how many integers to generate\n",
    "                                     replace = False) # third arg 'replace' ensures that the same integer is not choosen twice\n",
    "    for gene in genesToMutate:\n",
    "        if mutant[gene] == 1:\n",
    "            mutant[gene] = 0\n",
    "        else:\n",
    "            mutant[gene] = 1\n",
    "    return mutant"
   ]
  },
  {
   "cell_type": "markdown",
   "metadata": {},
   "source": [
    "## Why did I implement the mutation operation list this?\n",
    "This mutation operation flips the value of numberOfMutations bits in a given solution. Thereby introducting new genetic material into the population. This increases the size of the search space of the genetic algorithm, i.e., the set of solutions it explores. By doing so the mutation operation helps prevent the genetic algorithm by getting stuck in a local optimum."
   ]
  },
  {
   "cell_type": "markdown",
   "metadata": {},
   "source": [
    "### Testing the mutation function"
   ]
  },
  {
   "cell_type": "code",
   "execution_count": 20,
   "metadata": {},
   "outputs": [
    {
     "name": "stdout",
     "output_type": "stream",
     "text": [
      "solution:  [0, 1, 0, 0, 0, 1, 1, 0, 1, 0, 1, 0, 1, 1, 1, 0, 1, 0, 1, 0, 0, 1, 1, 0, 0, 1, 0, 1]\n",
      "mutant:  [0, 1, 0, 1, 0, 1, 1, 1, 1, 0, 1, 0, 1, 1, 0, 0, 1, 0, 0, 0, 0, 1, 1, 0, 1, 1, 0, 1]\n",
      "test mutant length: 28\n"
     ]
    }
   ],
   "source": [
    "testSolution = testPopulation[3][0]\n",
    "print(f\"solution: \", testSolution)\n",
    "testMutant = mutation(testSolution, 5)\n",
    "print(f\"mutant: \", testMutant)\n",
    "print(f\"test mutant length: {len(testMutant)}\")"
   ]
  },
  {
   "cell_type": "markdown",
   "metadata": {},
   "source": [
    "### Implementing a tournament selection operation which selects the individuals from the current population which will reproduce via the crossover operation and create offspring for the next generation of solutions."
   ]
  },
  {
   "cell_type": "code",
   "execution_count": 21,
   "metadata": {},
   "outputs": [],
   "source": [
    "getFitness = evaluate\n",
    "def getFittest(participants):\n",
    "    ''' Compares the fitness of participants the fittest individual\n",
    "        input: the array of individuals to compare\n",
    "        output: the solution (binary list) of the fittest individual\n",
    "    '''\n",
    "    fittest = participants[0]\n",
    "    for participant in participants:\n",
    "        if getFitness(participant) > getFitness(fittest):\n",
    "            fittest = participant\n",
    "    return fittest\n",
    "\n",
    "def getParticipants(population, amount):\n",
    "    ''' Returns the specified number of participants from the population\n",
    "        input: the population to select the amount of individuals from\n",
    "        output: array of amount specified random individuals in the population\n",
    "    '''\n",
    "    # make an array of random integers of length amount\n",
    "    randomPositions = np.random.choice(np.arange(0, len(population) - 1), # first arg indicates range of integers to choose from\n",
    "                                     size = amount, # second arg indicates how many integers to generate\n",
    "                                     replace = False) # third arg 'replace' ensures that the same integer is not choosen twice\n",
    "    participants = []\n",
    "    for position in randomPositions:\n",
    "        participants.append(population[position][0])\n",
    "    return participants\n",
    "\n",
    "def tournamentSelection(population, numberOfParticipants):\n",
    "    ''' Compares the fitness of randomly selected individuals in the population and returns \n",
    "        the best individual\n",
    "        Input:  the population data structure \n",
    "        ouptut: the solution (binary list) of the selected individual\n",
    "    '''\n",
    "    randomParticipants = getParticipants(population, numberOfParticipants)\n",
    "    winner = getFittest(randomParticipants)\n",
    "    return winner"
   ]
  },
  {
   "cell_type": "markdown",
   "metadata": {},
   "source": [
    "### Testing the tournament selection operator"
   ]
  },
  {
   "cell_type": "code",
   "execution_count": 22,
   "metadata": {},
   "outputs": [
    {
     "name": "stdout",
     "output_type": "stream",
     "text": [
      "individual 1 has a value of: 0\n",
      "individual 2 has a value of: 0\n",
      "individual 3 has a value of: 0\n",
      "individual 4 has a value of: 0\n",
      "individual 5 has a value of: 9385\n",
      "individual 6 has a value of: 25072\n",
      "individual 7 has a value of: 25933\n",
      "individual 8 has a value of: 37624\n",
      "individual 9 has a value of: 78350\n",
      "individual 10 has a value of: 87475\n",
      "[0, 0, 1, 0, 1, 0, 0, 0, 0, 1, 1, 1, 0, 0, 0, 0, 0, 0, 0, 1, 1, 0, 0, 0, 1, 1, 1, 0]\n",
      "78350\n"
     ]
    }
   ],
   "source": [
    "individualCounter = 0\n",
    "for individual in testPopulation:\n",
    "    individualCounter = individualCounter + 1\n",
    "    print(f\"individual {individualCounter} has a value of: {individual[1]}\")\n",
    "winner = tournamentSelection(testPopulation, 5)\n",
    "print(winner)\n",
    "print(evaluate(winner))"
   ]
  },
  {
   "cell_type": "markdown",
   "metadata": {},
   "source": [
    "## Why did I implement the selection operation like this?\n",
    "The selection operation selects individuals from the current population to be used as parents for the next generation.\n",
    "What is known as tournament selection is employed: a few individuals from the population are compared and the fittest among them are choosen as parents for the next generation.\n",
    "The more participants in the selection process, the higher the selective pressure, i.e., the less likely weak candidates are to be choosen and the more likely stronger candidates will be choosen because the amount of competition is larger so weak candidates will have to compete against strong candidates.\n",
    "The selection pressure parameter, i.e., the probability that a candidate participates in a tournament, is determined by the number of tournament participants and the size of the total populaiton. The selection pressure determines the rate of convergence of the algorithm. If the genetic algorithm's rate of convergence is too high it might converge towards an optimum solution too fast, thereby converging to a local optimum solution instead of the global optimum solution.\n",
    "So, I need to be careful not to make the tournaments too competitive by not incrementing the number of participants too much. This way genetic diversity is maintained and the algorithm search space is larger."
   ]
  },
  {
   "cell_type": "markdown",
   "metadata": {},
   "source": [
    "### Implementing a crossover operation which will perform a crossover of two solutions, now that I have a mutation operation and a selection operation."
   ]
  },
  {
   "cell_type": "code",
   "execution_count": 23,
   "metadata": {},
   "outputs": [],
   "source": [
    "def crossover(parent1, parent2, numberOfCrossoverPoints):\n",
    "    ''' Performs a numberOfCrossoverPoints-point crossover of the two given solutions\n",
    "        Input:  Two solutions (binary lists) as parents\n",
    "        Ouptut: One child applying n-point crossover.\n",
    "    '''\n",
    "    # an array of crossover points within the given parents\n",
    "    crossoverPoints = np.random.choice(np.arange(1, len(parent1) - 2), size = numberOfCrossoverPoints, replace = False) \n",
    "        # Create an arry of random integers from given range without duplicates, i.e., replace = False\n",
    "        # Crossover points are not first or last positions because those positions do not cross parent solutions\n",
    "    crossoverPoints.sort() # Crossover points are sorted in ascending order so that child is the same length as parents\n",
    "        \n",
    "    #crossing over the parent solutions at the specified crossover points\n",
    "    child = []\n",
    "    previousPoint = 0\n",
    "    nextParent = parent1\n",
    "    for crossoverPoint in crossoverPoints:\n",
    "        child = child + nextParent[previousPoint : crossoverPoint]\n",
    "        if nextParent == parent1:\n",
    "            nextParent = parent2\n",
    "        else:\n",
    "            nextParent = parent1  \n",
    "        previousPoint = crossoverPoint # end of last subsection becomes start of next one\n",
    "    \n",
    "    # adding the last subsection of the child because the loop does not\n",
    "    child = child + nextParent[previousPoint:]\n",
    "    \n",
    "    return child"
   ]
  },
  {
   "cell_type": "markdown",
   "metadata": {},
   "source": [
    "## Why did I implement the crossover operation like this?\n",
    "The crossover genetic operation is knows as the search operator. The serach operator is a function that takes one or more candidate solutions as input and produces one or more new candidate solutions as output.\n",
    "This crossover operation performs an n-point crossover of the \n",
    "two given solutions.\n",
    "This gives me the flexibility to change the number of crossover points so that I can experiment and see which number of crossover points gives me the best results when combining parent solutions."
   ]
  },
  {
   "cell_type": "markdown",
   "metadata": {},
   "source": [
    "### Testing the crossover operator"
   ]
  },
  {
   "cell_type": "code",
   "execution_count": 24,
   "metadata": {},
   "outputs": [
    {
     "name": "stdout",
     "output_type": "stream",
     "text": [
      "Parents:\n",
      "[0, 0, 0, 1, 1, 1, 0, 0, 0, 0, 1, 0, 1, 0, 1, 1, 0, 0, 0, 0, 1, 1, 0, 1, 0, 1, 0, 1]\n",
      "[0, 1, 0, 0, 0, 1, 1, 0, 1, 0, 1, 0, 1, 1, 1, 0, 1, 0, 1, 0, 0, 1, 1, 0, 0, 1, 0, 1]\n",
      "Child:\n",
      "[0, 0, 0, 1, 1, 1, 0, 0, 1, 0, 1, 0, 1, 0, 1, 1, 0, 0, 0, 0, 1, 1, 0, 1, 0, 1, 0, 1]\n",
      "length of child is 28\n"
     ]
    }
   ],
   "source": [
    "parent1 = testPopulation[1][0] # references to parent\n",
    "parent2 = testPopulation[3][0]\n",
    "print(\"Parents:\")\n",
    "print(parent1)\n",
    "print(parent2)\n",
    "\n",
    "child = crossover(parent1, parent2, 2)\n",
    "print(\"Child:\")\n",
    "print(child)\n",
    "print(f\"length of child is {len(child)}\")"
   ]
  },
  {
   "cell_type": "markdown",
   "metadata": {},
   "source": [
    "### Implementing a genetic algorithm for solving this optimisation problem. Because I have all of the genetic operations I need."
   ]
  },
  {
   "cell_type": "code",
   "execution_count": 25,
   "metadata": {},
   "outputs": [],
   "source": [
    "def geneticAlgorithm(iterations, populationSize, participants, childrenPerIteration, crossoverPoints, mutations):\n",
    "    ''' \n",
    "       Run the GA for for a maximum number of iterations\n",
    "       Input:  Integer representing the maximum number of iterations\n",
    "       Output: The best solution found at the end of the run, \n",
    "               A trace of the values (fitness) of the best individual at each iteration\n",
    "    '''\n",
    "    population = createPopulation(populationSize) # create a starting population\n",
    "    fittestIndividual = population[-1] # fittest individual is last because population is sorted by fitness\n",
    "    \n",
    "    # create traces, i.e, histories, for variables I want to keep track of\n",
    "    fitnessTrace = [fittestIndividual[1]]\n",
    "    improvedSolutionsFitnessTrace = [fittestIndividual[1]]\n",
    "    improvedIterationsTrace = [0]\n",
    "\n",
    "    # the genetic algorithm loop\n",
    "    for iteration in range(iterations):\n",
    "        fittestChild = [[], 0]\n",
    "        for child in range(childrenPerIteration):\n",
    "            momSolution = tournamentSelection(population, participants)\n",
    "            dadSolution = tournamentSelection(population, participants)\n",
    "            childSolution = crossover(momSolution, dadSolution, crossoverPoints)\n",
    "            childMutation = mutation(childSolution, mutations)\n",
    "            childMutationFitness = evaluate(childMutation)\n",
    "            child = [childMutation, childMutationFitness]\n",
    "            # replace the worst (least fit) individual in the population with the child mutation\n",
    "            population[0] = child\n",
    "            population.sort(key = lambda x: x[1]) # key is set to sort using second element (Fitness), \n",
    "                                                  # reverse is = ascending by default\n",
    "                                                  # lambda is a keyword that allows you to create small anonymous functions\n",
    "                                                  # The general syntax of a lambda function is lambda arguments: expression\n",
    "            # update fittest child of this iteration\n",
    "            if childMutationFitness > fittestChild[1]:\n",
    "                fittestChild = child\n",
    "        # update fitness traces\n",
    "        fittestIndividual = population[-1]\n",
    "        if fittestChild == fittestIndividual:\n",
    "            improvedSolutionsFitnessTrace.append(fittestIndividual[1])\n",
    "            improvedIterationsTrace.append(iteration + 1)\n",
    "        fitnessTrace.append(fittestIndividual[1])\n",
    "            \n",
    "    # return the fittest individual and the variable histories I kept\n",
    "    return fittestIndividual, fitnessTrace, improvedSolutionsFitnessTrace, improvedIterationsTrace"
   ]
  },
  {
   "cell_type": "markdown",
   "metadata": {},
   "source": [
    "## Why did I implement my genetic algorithm like this?\n",
    "This genetic algorithm selects two parents from the population based on the selection operation.\n",
    "The it creates a child using the crossover operation.\n",
    "And then it creates a mutation of the child using the mutation operation.\n",
    "Finally, this algorithm replaces the worst solution from the previous generation with the new mutated child solution.\n",
    "\n",
    "The way I have implemented my genetic algorithm and its genetic operations means that I can \n",
    "experiment with the values of its hyper-parameters easily. This experimentation will allow me to deduce the optimal value for hyper-parameters for this specific problem.\n",
    "\n",
    "Hyper-parameters are parameters that are not learned by the model but are set prior to training. They control the learning process and affect the performance of the model.\n",
    "Hyper-parameters include:\n",
    "- **iterations**\n",
    "    - The number of iterations the genetic algorithm evolves: how many times the algorithm will run before stopping.\n",
    "- **population size**\n",
    "    - The size of the population which takes part in the evolutionary process: The larger the population of participants, the larger the search space because more potential solutions will be explored.\n",
    "- **selection pressure**\n",
    "    - The number of competitors in selection tournaments: the more participants in the selection process, the higher the selective pressure, i.e., the less likely weak candidates are to be choosen and the more likely stronger candidates will be choosen because the amount of competition is larger so weak candidates will have to compete against strong candidates. The selection pressure determines the rate of convergence of the algorithm. If the genetic algorithm's rate of convergence is too high it might converge towards an optimum solution too fast, thereby converging to a local optimum solution instead of the global optimum solution. So, I need to be careful not to make the tournaments too competitive by not incrementing the number of participants too much. This way genetic diversity is maintained and the algorithm search space is larger.\n",
    "- **replacement rate**\n",
    "    - The number of individuals replaced per generation: This refers to the number of individuals in the population that are replaced with new offspring in each generation of the genetic algorithm. The value of this hyperparameter determines the rate at which the population evolves. A larger value will result in a faster evolution, but it could also lead to a loss of diversity if the new offspring are not as diverse as the previous generation. On the other hand, a smaller value will result in a slower evolution, but it could help maintain diversity in the population.\n",
    "- **crossover rate**\n",
    "    - The number of crossover points between parents of a child: the number of points where two parent chromosomes will exchange genes. A higher crossover rate increases the likelihood of genetic material being exchanged between chromosomes, which can lead to faster convergence but also increases the risk of premature convergence and loss of diversity. If the genetic algorithm's rate of convergence is too high it might converge towards an optimum solution too fast, thereby converging to a local optimum solution instead of the global optimum solution.\n",
    "- **mutation rate**\n",
    "    - The number of random gene mutations in a child: this parameter affects the genetic algorithm mutation rate, which is the probability that a gene will mutate.\n",
    "\n",
    "This implementation is advantageous because it allows me to easily run experiment with different genetic algorithm hyper-parameters and observe the results. This way I will be able to deduce which genetic algorithm hyper-parameter values are optimal for obtaining the highest value solution."
   ]
  },
  {
   "cell_type": "markdown",
   "metadata": {},
   "source": [
    "### Testing the genetic algorithm"
   ]
  },
  {
   "cell_type": "code",
   "execution_count": 26,
   "metadata": {},
   "outputs": [
    {
     "name": "stdout",
     "output_type": "stream",
     "text": [
      "[[0, 0, 1, 0, 1, 1, 1, 1, 0, 1, 0, 0, 0, 1, 0, 0, 0, 0, 1, 1, 1, 0, 0, 1, 0, 0, 1, 0], 123585]\n"
     ]
    }
   ],
   "source": [
    "numberOfIterations = 100\n",
    "populationSize = 100\n",
    "tournamentParticipants = 3\n",
    "childrenPerIteration = 2\n",
    "crossoverPoints = 3\n",
    "mutations = 1\n",
    "\n",
    "bestSolution, fitnessTrace, improvedSolutionsFitnessTrace, improvedIterationsTrace = geneticAlgorithm(numberOfIterations, \n",
    "                                           populationSize, \n",
    "                                           tournamentParticipants, \n",
    "                                           childrenPerIteration, \n",
    "                                           crossoverPoints, \n",
    "                                           mutations)\n",
    "print(bestSolution)"
   ]
  },
  {
   "cell_type": "markdown",
   "metadata": {},
   "source": [
    "## Using plots to report genetic algorithm results"
   ]
  },
  {
   "cell_type": "code",
   "execution_count": 27,
   "metadata": {},
   "outputs": [
    {
     "data": {
      "text/plain": [
       "<matplotlib.collections.PathCollection at 0x11538b250>"
      ]
     },
     "execution_count": 27,
     "metadata": {},
     "output_type": "execute_result"
    },
    {
     "data": {
      "image/png": "[encoded data removed]",
      "text/plain": [
       "<Figure size 640x480 with 1 Axes>"
      ]
     },
     "metadata": {},
     "output_type": "display_data"
    }
   ],
   "source": [
    "import matplotlib.pyplot as plt\n",
    "%matplotlib inline\n",
    "\n",
    "plt.title(\"genetic algorithm pizza optimisation problem\")\n",
    "plt.xlabel(\"iterations\")\n",
    "plt.ylabel(\"value (fitness)\")\n",
    "plt.plot(fitnessTrace)\n",
    "plt.scatter(improvedIterationsTrace, improvedSolutionsFitnessTrace, marker = \"x\", color = \"red\")"
   ]
  },
  {
   "cell_type": "markdown",
   "metadata": {},
   "source": [
    "## Comparing the genetic algorithm to the hill climber algorithm. Does the genetic algorithm outperform, i.e., find better resutls than the hill climber algorithm?"
   ]
  },
  {
   "cell_type": "code",
   "execution_count": 28,
   "metadata": {},
   "outputs": [
    {
     "data": {
      "image/png": "[encoded data removed]",
      "text/plain": [
       "<Figure size 640x480 with 1 Axes>"
      ]
     },
     "metadata": {},
     "output_type": "display_data"
    },
    {
     "name": "stdout",
     "output_type": "stream",
     "text": [
      "Best solution:\n",
      "Genetic algorithm: 123585\n",
      "Hill-climber algorithm: 76172\n"
     ]
    }
   ],
   "source": [
    "# comparison plot\n",
    "plt.title(\"hill-climber VS genetic algorithm fitness comparison pizza optimisation problem\")\n",
    "plt.xlabel(\"iterations\")\n",
    "plt.ylabel(\"profit/value (fitness)\")\n",
    "# genetic algorithm plot\n",
    "plt.plot(fitnessTrace, color = \"green\")\n",
    "plt.scatter(improvedIterationsTrace, improvedSolutionsFitnessTrace, marker = \"x\", color = \"red\")\n",
    "# hill-climber algorithm plot\n",
    "plt.plot(allSolutionsProfitTrace, color = \"blue\")\n",
    "plt.scatter(improvedSolutionsIterationsTrace, improvedSolutionsProfitTrace, color = \"orange\", s = 50, marker = \"x\")\n",
    "plt.show()\n",
    "\n",
    "print(\"Best solution:\")\n",
    "print(f\"Genetic algorithm: {bestSolution[1]}\")\n",
    "print(f\"Hill-climber algorithm: {improvedSolutionsProfitTrace[-1]}\")"
   ]
  },
  {
   "cell_type": "markdown",
   "metadata": {},
   "source": [
    "# Part 3: Performance Comparison\n",
    "Total: 15 marks (30% of 50 point total)\n",
    "\n",
    "5pts (10% of marks): Algorithms and Comparing Performance -\n",
    "What are the two selected algorithm versions?\n",
    "What did you do to try to make the comparison fair?\n",
    "\n",
    "10pts (20% of marks): Experiments and Results -\n",
    "Running experiments and reporting numerical values such as average and standard deviation. Include graphical visualisations of your comparative results\n",
    "\n",
    "- Here you're given the opportunity to perform a sound comparison of two versions of your algorithm.\n",
    "- By two versions, I  do not mean two completely different algorithms!\n",
    "- For example, you can contrast two values of your algorithm hyper-parameters, or two different search operators.\n",
    "- Please note that\n",
    "    - The optimisation methods we have studied are stochastic, meaning that any performance comparison needs to consider several runs, at least 10 runs. \n",
    "    - In order to have a fair comparison between the two algorithm variants, we need to give them approximately the same computational effort (running time) to solve the problem.\n",
    "- Base your comparison on the hardest instance.\n",
    "- To complete this part you should\n",
    "    - Report in text form  (using markdown cells in your notebook).\n",
    "        - Briefly describe the two selected algorithm versions.\n",
    "        - Justify your design of the two selected versions.\n",
    "        - What did you do to try to make the comparison fair?  \n",
    "    - Report numerical values such as average and standard deviation.\n",
    "    - Report plots with your comparative results.  "
   ]
  },
  {
   "cell_type": "markdown",
   "metadata": {},
   "source": [
    "## Reading in a large dataset for the multi-knapsack problem for a more challenging testing of my algorithm variants\n",
    "- n = 200\n",
    "- m = 25"
   ]
  },
  {
   "cell_type": "code",
   "execution_count": 29,
   "metadata": {},
   "outputs": [],
   "source": [
    "data_file_name = \"multi_knap_n200_m25.txt\"        \n",
    "\n",
    "n, m, profits, resources, capacities = read_multi_knapsack(data_file_name)\n",
    "\n",
    "numberOfRecipes = n\n",
    "numberOfIngregients = m\n",
    "recipeProfits = profits\n",
    "recipeIngredientsQuantities = resources\n",
    "ingredientsSupply = capacities"
   ]
  },
  {
   "cell_type": "markdown",
   "metadata": {},
   "source": [
    "## What are the two selected algorithm versions?\n",
    "The two selected algorithms are two versions of the genetic algorithm implement previous in part 2 of this assignment.\n",
    "\n",
    "The two algorithm versions will differ in their hyper-parameter values."
   ]
  },
  {
   "cell_type": "markdown",
   "metadata": {},
   "source": [
    "## controlled confounding variables\n",
    "Hyper-parameters are parameters that are not learned by the model but are set prior to training. They control the learning process and affect the performance of the model.\n",
    "Hyper-parameters include:\n",
    "- **iterations**\n",
    "    - The number of times the algorithm will run before stopping.\n",
    "- **population size**\n",
    "    - The larger the population of participants, the larger the search space because more potential solutions will be explored.\n",
    "- **selection pressure**\n",
    "    - The more participants in the selection process, the higher the selective pressure, i.e., the less likely weak candidates are to be choosen. The higher the selection pressure the quicker the algorithm's rate of convergence towards an optimum solution.\n",
    "- **replacement rate**\n",
    "    - The number of individuals in the population that are replaced with new offspring in each generation of the genetic algorithm. A larger value results in a quicker rate of convergence towards an optimum solution, but it could also lead to a loss of chromosome diversity (search space) if the new offspring are not as diverse as the previous generation.\n",
    "- **crossover rate**\n",
    "    - The number of crossover points between parents of a child. A higher crossover rate increases the likelihood of genetic material being exchanged between chromosomes, which can lead to faster convergence but also increases the risk of premature convergence and loss of diversity. If the genetic algorithm's rate of convergence is too high it might converge towards an optimum solution too fast, thereby converging to a local optimum solution instead of the global optimum solution."
   ]
  },
  {
   "cell_type": "code",
   "execution_count": 30,
   "metadata": {},
   "outputs": [],
   "source": [
    "iterations = 1000\n",
    "populationSize = 100\n",
    "selectionPressure = 3\n",
    "replacementRate = 2\n",
    "crossoverRate = 3"
   ]
  },
  {
   "cell_type": "markdown",
   "metadata": {},
   "source": [
    "## independent variables\n",
    "The independent variables in this genetic algorithm comparison are:\n",
    "- **mutation rate**\n",
    "    - The number of random gene mutations in a child. This parameter affects the genetic algorithm mutation rate, which is the probability that a gene will mutate."
   ]
  },
  {
   "cell_type": "markdown",
   "metadata": {},
   "source": [
    "### genetic algorithm 1"
   ]
  },
  {
   "cell_type": "code",
   "execution_count": 31,
   "metadata": {},
   "outputs": [],
   "source": [
    "mutationRate1 = 1"
   ]
  },
  {
   "cell_type": "markdown",
   "metadata": {},
   "source": [
    "### genetic algorithm 2"
   ]
  },
  {
   "cell_type": "code",
   "execution_count": 32,
   "metadata": {},
   "outputs": [],
   "source": [
    "mutationRate2 = 6"
   ]
  },
  {
   "cell_type": "markdown",
   "metadata": {},
   "source": [
    "## Running experiments"
   ]
  },
  {
   "cell_type": "code",
   "execution_count": 33,
   "metadata": {},
   "outputs": [],
   "source": [
    "# creating histories of algorithm 1 & 2s best solutions and fitness for each test\n",
    "# algorithm 1 histories\n",
    "algo1BestSolutions = []\n",
    "algo1FitnessTraces = []\n",
    "algo1ImprovedFitnessesTraces = []\n",
    "algo1ImprovedIterationsTraces = []\n",
    "algo1ExecutionTimes = []\n",
    "# algorithm 2 histories\n",
    "algo2BestSolutions = []\n",
    "algo2FitnessTraces = []\n",
    "algo2ImprovedFitnessesTraces = []\n",
    "algo2ImprovedIterationsTraces = []\n",
    "algo2ExecutionTimes = []\n",
    "\n",
    "import time\n",
    "\n",
    "# running the experiments\n",
    "numberOfTests = 100\n",
    "for test in range(numberOfTests):\n",
    "    # run algorithm 1\n",
    "    start_time_1 = time.time()\n",
    "    best1, fitness1, improvedFitnesses1, improvedIterations1 = geneticAlgorithm(iterations,\n",
    "                                                                            populationSize,\n",
    "                                                                            selectionPressure,\n",
    "                                                                            replacementRate,\n",
    "                                                                            crossoverRate,\n",
    "                                                                            mutationRate1)\n",
    "    end_time_1 = time.time()\n",
    "    algo1BestSolutions.append(best1)\n",
    "    algo1FitnessTraces.append(fitness1)\n",
    "    algo1ImprovedFitnessesTraces.append(improvedFitnesses1)\n",
    "    algo1ImprovedIterationsTraces.append(improvedIterations1)\n",
    "    algo1_execution_time = end_time_1 - start_time_1\n",
    "    algo1ExecutionTimes.append(algo1_execution_time)\n",
    "    \n",
    "    # run algorithm 2\n",
    "    start_time_2 = time.time()\n",
    "    best2, fitness2, improvedFitnesses2, improvedIterations2 = geneticAlgorithm(iterations,\n",
    "                                                                            populationSize,\n",
    "                                                                            selectionPressure,\n",
    "                                                                            replacementRate,\n",
    "                                                                            crossoverRate,\n",
    "                                                                            mutationRate2)\n",
    "    end_time_2 = time.time()\n",
    "    algo2BestSolutions.append(best2)\n",
    "    algo2FitnessTraces.append(fitness2)\n",
    "    algo2ImprovedFitnessesTraces.append(improvedFitnesses2)\n",
    "    algo2ImprovedIterationsTraces.append(improvedIterations2)\n",
    "    algo2_execution_time = end_time_2 - start_time_2\n",
    "    algo2ExecutionTimes.append(algo2_execution_time)"
   ]
  },
  {
   "cell_type": "markdown",
   "metadata": {},
   "source": [
    "## What did you do to try to make the comparison fair?\n",
    "To make the comparison fair confounding variables will be kept constant.\n",
    "\n",
    "This way differences in outcome (performance) between the two versions of the genetic algorithm can only be attributed to the differences between them, i.e., the different values of their independent varialbes, and not to confounding variables that affect the performance of these genetic algorithms.\n",
    "\n",
    "The independent variables in this comparison will be some of the hyper-parameters shared by the two genetic algorithms. I will assign the indepent variables differnet values for each algorithm and compare the results.\n",
    "\n",
    "All other variables will be the same for both algorithms. Including other hyper-parameters. For example, both algorithms will run for the same number of iterations and have the same population size. \n",
    "\n",
    "This comparison format means observable differences in outcomes between the two genetic algorithms can be attributed to the only differences between them, the value of their independent variables.\n",
    "\n",
    "Additionally, I will run the same experiment (performance test) multiple times. This way I will be comparing the average results of both genetic algorithms, and not just one-time results. This is important because otherwise I could be comparing an exceptional result from one version of the algorithm with a below average result from the other version. This would be an unfair and inaccurate because I would be comparing a lucky result with an unlucky result.\n",
    "\n",
    "Comparing the results of multiple tests demonstrates that the observations are not one time flukes. This makes the comparison fair and accurate because it gives us the ability to deduce which algorithm is best most of the time. Thereby removing luck from the comparison the more experiments we run."
   ]
  },
  {
   "cell_type": "markdown",
   "metadata": {},
   "source": [
    "## Reporting numerical values such as average and standard deviation. Include graphical visualisations of your comparative results"
   ]
  },
  {
   "cell_type": "markdown",
   "metadata": {},
   "source": [
    "### algorithms numerical metrics results comparison"
   ]
  },
  {
   "cell_type": "markdown",
   "metadata": {},
   "source": [
    "#### Average best solution"
   ]
  },
  {
   "cell_type": "code",
   "execution_count": 34,
   "metadata": {},
   "outputs": [
    {
     "name": "stdout",
     "output_type": "stream",
     "text": [
      "Algorithm 1:\n",
      "Average of best solutions: 7651.8\n",
      "Overall best solution: 7827\n",
      "\n",
      "Algorithm 2:\n",
      "Average of best solutions: 7643.39\n",
      "Overall best solution: 7740\n"
     ]
    }
   ],
   "source": [
    "algo1BestSolutionFitnesses = [bestSolution[1] for bestSolution in algo1BestSolutions]\n",
    "averageBestAlgo1 = np.average(algo1BestSolutionFitnesses)\n",
    "overallBestSolutionAlgo1 = max(algo1BestSolutionFitnesses)\n",
    "print(\"Algorithm 1:\")\n",
    "print(f\"Average of best solutions: {averageBestAlgo1}\")\n",
    "print(f\"Overall best solution: {overallBestSolutionAlgo1}\")\n",
    "print()\n",
    "\n",
    "algo2BestSolutionFitnesses = [bestSolution[1] for bestSolution in algo2BestSolutions]\n",
    "averageBestAlgo2 = np.average(algo2BestSolutionFitnesses)\n",
    "overallBestSolutionAlgo2 = max(algo2BestSolutionFitnesses)\n",
    "print(\"Algorithm 2:\")\n",
    "print(f\"Average of best solutions: {averageBestAlgo2}\")\n",
    "print(f\"Overall best solution: {overallBestSolutionAlgo2}\")"
   ]
  },
  {
   "cell_type": "markdown",
   "metadata": {},
   "source": [
    "#### Standard deviation from the average best solution"
   ]
  },
  {
   "cell_type": "code",
   "execution_count": 35,
   "metadata": {},
   "outputs": [
    {
     "name": "stdout",
     "output_type": "stream",
     "text": [
      "Standard deviation of best solutions from algorithm 1: 59.56592985927441\n",
      "Standard deviation of best solutions from algorithm 2: 45.397994449094334\n"
     ]
    }
   ],
   "source": [
    "stdDevBestSolutionsAlgo1 = np.std(algo1BestSolutionFitnesses)\n",
    "print(f\"Standard deviation of best solutions from algorithm 1: {stdDevBestSolutionsAlgo1}\")\n",
    "\n",
    "stdDevBestSolutionsAlgo2 = np.std(algo2BestSolutionFitnesses)\n",
    "print(f\"Standard deviation of best solutions from algorithm 2: {stdDevBestSolutionsAlgo2}\")"
   ]
  },
  {
   "cell_type": "markdown",
   "metadata": {},
   "source": [
    "#### Average execution duration"
   ]
  },
  {
   "cell_type": "code",
   "execution_count": 36,
   "metadata": {},
   "outputs": [
    {
     "name": "stdout",
     "output_type": "stream",
     "text": [
      "Average run time of algorithm 1: 2.2657977080345155 seconds.\n",
      "Average run time of algorithm 2: 2.290707070827484 seconds.\n"
     ]
    }
   ],
   "source": [
    "averageRunTimeAlgo1 = np.average(algo1ExecutionTimes)\n",
    "averageRunTimeAlgo2 = np.average(algo2ExecutionTimes)\n",
    "print(f\"Average run time of algorithm 1: {averageRunTimeAlgo1} seconds.\")\n",
    "print(f\"Average run time of algorithm 2: {averageRunTimeAlgo2} seconds.\")"
   ]
  },
  {
   "cell_type": "markdown",
   "metadata": {},
   "source": [
    "When comparing algorithms run time gives us an idea of the efficiency of our algorithms. I.e., how much work they require to execute.\n",
    "\n",
    "The two algorithms presented for solving this instance of the knapsack problem have a negligible difference in execution duration.\n",
    "\n",
    "A difference of less than 0.05 seconds may seem negligible, but it depends on the context in which the algorithm is used. In this scenario this difference is not meaningful. However, if these algorithms were running on a large scale or in a time sensitive application, small differences like this can add up or become significant. For example, if an algorithm runs millions of times a 0.01 second difference can lead to a substantial total time difference. However, if the algorithms are not frequently executed, this difference might not be as significant."
   ]
  },
  {
   "cell_type": "markdown",
   "metadata": {},
   "source": [
    "### Graphical visualisations of comparative resutls"
   ]
  },
  {
   "cell_type": "markdown",
   "metadata": {},
   "source": [
    "#### comparison of best solutions box plot\n",
    "The box plot comparing the best solutions from both algorithms shows the distribution of fitnesses for each of the algorithms.\n",
    "\n",
    "A boxplot is a graphical representation of the distribution of a set of data based on a five-number summary:\n",
    "- minimum\n",
    "- first quartile (Q1)\n",
    "- median\n",
    "- third quartile (Q3)\n",
    "- maximum\n",
    "\n",
    "A boxplot can tell you about outliers (circles above or below the box plot), skewness (where is the usually orange median line relative to the other data points), and the distribution of values across multiple data streams (in this case the distribution of best solutions for algorithms 1 and 2).\n",
    "In these box plots:\n",
    "- The box represents the interquartile range (IQR), which is the range between the first quartile (25th percentile) and the third quartile (75th percentile). This gives you a sense of where the bulk of your data falls.\n",
    "- The line inside the box represents the median (50th percentile), which is the middle value of the data set.\n",
    "- The \"whiskers\" extending from the box show the range within which the majority of the data falls, typically within 1.5 times the IQR of the data.\n",
    "- Any data points that fall outside the whiskers are considered outliers and are typically marked with a different symbol. Usually a circle."
   ]
  },
  {
   "cell_type": "code",
   "execution_count": 37,
   "metadata": {},
   "outputs": [
    {
     "data": {
      "image/png": "[encoded data removed]",
      "text/plain": [
       "<Figure size 640x480 with 1 Axes>"
      ]
     },
     "metadata": {},
     "output_type": "display_data"
    },
    {
     "data": {
      "image/png": "[encoded data removed]",
      "text/plain": [
       "<Figure size 640x480 with 1 Axes>"
      ]
     },
     "metadata": {},
     "output_type": "display_data"
    }
   ],
   "source": [
    "# box plot comparing the distributions of best solutions for each algorithm\n",
    "\n",
    "# computing the minimum, maximum, and quartile values for each algorithm\n",
    "algo1Stats = np.percentile(algo1BestSolutionFitnesses, [25, 50, 75]), np.min(algo1BestSolutionFitnesses), np.max(algo1BestSolutionFitnesses), np.std(algo1BestSolutionFitnesses)\n",
    "algo2Stats = np.percentile(algo2BestSolutionFitnesses, [25, 50, 75]), np.min(algo2BestSolutionFitnesses), np.max(algo2BestSolutionFitnesses), np.std(algo2BestSolutionFitnesses)\n",
    "\n",
    "# creating the box plot\n",
    "figure, axes = plt.subplots() # axes is an instance of the Axes class which represents a single plot in a figure\n",
    "axes.boxplot([algo1BestSolutionFitnesses, \n",
    "              algo2BestSolutionFitnesses], \n",
    "              labels=['Algorithm 1', 'Algorithm 2'],\n",
    "              patch_artist=True,\n",
    "              boxprops=dict(facecolor='lightblue', color='blue', linewidth=2))\n",
    "\n",
    "# adding error bars to the box plot to show the standard deviation of best solutions for each algorithm\n",
    "axes.errorbar(1, algo1Stats[0][1], yerr=algo1Stats[3], color=(1, 0, 0, 0.75), capsize=5, lw=2)\n",
    "axes.errorbar(2, algo2Stats[0][1], yerr=algo2Stats[3], color=(1, 0, 0, 0.75), capsize=5, lw=2)\n",
    "\n",
    "# making custom legend handles\n",
    "from matplotlib.lines import Line2D\n",
    "legend_elements = [Line2D([0], [0], color='orange', lw=2, label='Median'),\n",
    "                   Line2D([0], [0], color=(1, 0, 0, 0.75), lw=2, label='Standard Deviation')]\n",
    "# adding the legend\n",
    "axes.legend(handles=legend_elements, loc='upper right')\n",
    "\n",
    "# Add labels, lines, and grid\n",
    "axes.set_xticklabels(['Algorithm 1', 'Algorithm 2'])\n",
    "axes.axhline(y = algo1Stats[0][1], color = 'orange', linestyle = '--', label = 'Median')\n",
    "axes.axhline(y = algo2Stats[0][1], color = 'orange', linestyle = '--', label = 'Median')\n",
    "axes.text(1.1, algo1Stats[0][1], \n",
    "          f'stdDev: {algo1Stats[3]:.2f}\\nMax: {algo1Stats[2]:.2f}\\nQ3: {algo1Stats[0][2]:.2f}\\nMedian: {algo1Stats[0][1]:.2f}\\nQ1: {algo1Stats[0][0]:.2f}\\nMin: {algo1Stats[1]}', \n",
    "          verticalalignment='bottom', fontsize=8, color=\"green\")\n",
    "axes.text(2.1, algo2Stats[0][1], \n",
    "          f'stdDev: {algo2Stats[3]:.2f}\\nMax: {algo2Stats[2]:.2f}\\nQ3: {algo2Stats[0][2]:.2f}\\nMedian: {algo2Stats[0][1]:.2f}\\nQ1: {algo2Stats[0][0]:.2f}\\nMin: {algo2Stats[1]}', \n",
    "          verticalalignment='bottom', fontsize=8, color=\"green\")\n",
    "axes.grid(True)\n",
    "\n",
    "# drawing the box plot\n",
    "plt.title('Comparison of best solutions')\n",
    "plt.ylabel('fitness')\n",
    "plt.show()\n",
    "\n",
    "# bar plot comparing standard deviations of best solutions from algorithm 1 & 2\n",
    "plt.bar([1, 2], \n",
    "        [stdDevBestSolutionsAlgo1, \n",
    "         stdDevBestSolutionsAlgo2], \n",
    "        tick_label=['Algorithm 1', 'Algorithm 2'])\n",
    "plt.axhline(y = algo1Stats[3], color = 'green', linestyle = '--', label = 'Standard Deviation')\n",
    "plt.axhline(y = algo2Stats[3], color = 'green', linestyle = '--', label = 'Standard Deviation')\n",
    "plt.text(1.1, algo1Stats[3] * 0.98, f'stdDev: {algo1Stats[3]:.2f}\\n', verticalalignment='bottom', fontsize=8, color=\"red\")\n",
    "plt.text(2.1, algo2Stats[3] * 0.98, f'stdDev: {algo2Stats[3]:.2f}\\n', verticalalignment='bottom', fontsize=8, color=\"red\")\n",
    "plt.grid(True)\n",
    "plt.ylabel('fitness deviation')\n",
    "plt.title('Comparison of Standard Deviation of best solutions')\n",
    "plt.show()"
   ]
  },
  {
   "cell_type": "markdown",
   "metadata": {},
   "source": [
    "## comparison experiment conclusion\n",
    "The independent variable was mutation rate:\n",
    "- The number of random gene mutations in a child. This parameter affects the genetic algorithm mutation rate, which is the probability that a gene will mutate.\n",
    "\n",
    "mutation rates:\n",
    "- algorithm 1: 1\n",
    "- algortihm 2: 6\n",
    "\n",
    "The control variables were:\n",
    "- iterations = 1000\n",
    "- populationSize = 100\n",
    "- selectionPressure = 3\n",
    "- replacementRate = 2\n",
    "- crossoverRate = 3\n",
    "\n",
    "The results of this controlled comparison experiment indicate that a lower mutation rate of 1 is preferable to a greater mutation rate of 6. Because the algorithm with the lower mutation rate outperformed the algorithm with a greater mutation rate the majority of times.\n",
    "\n",
    "However, the difference in performance is very small relative to total performance. Which indicates that a mutation rate of 1 or 6 has little impact on performance given the controlled hyper-parameters."
   ]
  },
  {
   "cell_type": "markdown",
   "metadata": {},
   "source": [
    "# Submission Guidelines\n",
    "- You can work on your own\n",
    "- Or in a team of 2 people, if you decide to do so\n",
    "    - Register your team at Project Groups\n",
    "    - A single submission per team is required\n",
    "- Submit two files\n",
    "    - A Jupyter notebook (.ipynb) (to check your code)\n",
    "    - An HTML version of the notebook to facilitate reading \n",
    "- Identify the team student number(s) in your notebook.\n",
    "- Avoid submitting notebooks with very long output printouts.\n",
    "- Use markdown to identify the parts of the assignment clearly.\n",
    "- It would be best if you used code cells for your code and markdown cells to answer the questions in text form. \n",
    "\n",
    "reiteration of guidelines:\n",
    "- Submit a single Jupyter document (.ipynb), clearly identifying each part using markdown cells. \n",
    "- Submit also an HTML version of your notebook to facilitate reading and initial inspection.\n",
    "- Use code cells for your code and plots, and markdown cells for your text descriptions and justification of design choices.\n",
    "\n",
    "#### Due 15 Nov by 23:59"
   ]
  }
 ],
 "metadata": {
  "kernelspec": {
   "display_name": "Python 3 (ipykernel)",
   "language": "python",
   "name": "python3"
  },
  "language_info": {
   "codemirror_mode": {
    "name": "ipython",
    "version": 3
   },
   "file_extension": ".py",
   "mimetype": "text/x-python",
   "name": "python",
   "nbconvert_exporter": "python",
   "pygments_lexer": "ipython3",
   "version": "3.11.4"
  },
  "vscode": {
   "interpreter": {
    "hash": "cd844c78e6ad96aaf4713ea15b69e294556c54f38bf0be6fc264fe75595d01ff"
   }
  }
 },
 "nbformat": 4,
 "nbformat_minor": 4
}
